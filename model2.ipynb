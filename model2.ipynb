{
 "cells": [
  {
   "cell_type": "code",
   "execution_count": 1,
   "metadata": {},
   "outputs": [
    {
     "name": "stdout",
     "output_type": "stream",
     "text": [
      "(28709, 48, 48, 1)\n",
      "(28709, 7)\n"
     ]
    },
    {
     "name": "stderr",
     "output_type": "stream",
     "text": [
      "/home/hardik/anaconda3/lib/python3.6/site-packages/h5py/__init__.py:34: FutureWarning: Conversion of the second argument of issubdtype from `float` to `np.floating` is deprecated. In future, it will be treated as `np.float64 == np.dtype(float).type`.\n",
      "  from ._conv import register_converters as _register_converters\n",
      "Using TensorFlow backend.\n"
     ]
    }
   ],
   "source": [
    "import numpy as np\n",
    "import os\n",
    "data_path='./drive/data_image_npy'\n",
    "x=np.load(os.path.join(data_path,'train_x.npy'))\n",
    "x=x.reshape(x.shape[0],48,48,1)\n",
    "print(x.shape)\n",
    "y=np.load(os.path.join(data_path,'train_y.npy'))\n",
    "#converting y to one hot vectors\n",
    "_y=[]\n",
    "for i in y:\n",
    "    temp=np.zeros(7)\n",
    "    temp[i]=1\n",
    "    _y.append(temp)\n",
    "y=np.array(_y)\n",
    "print(y.shape)\n",
    "from keras.models import Sequential\n",
    "from keras.layers import Conv2D,MaxPooling2D,Dense, Activation,Flatten,Dropout"
   ]
  },
  {
   "cell_type": "code",
   "execution_count": null,
   "metadata": {
    "collapsed": true
   },
   "outputs": [],
   "source": []
  },
  {
   "cell_type": "code",
   "execution_count": 8,
   "metadata": {
    "collapsed": true
   },
   "outputs": [],
   "source": [
    "model=Sequential()\n",
    "model.add(Conv2D(filters=96,kernel_size=(3,3),strides=(1,1),padding='same',activation='relu',input_shape=x.shape[1:]))\n",
    "model.add(MaxPooling2D(pool_size=(2, 2),padding='valid'))\n",
    "model.add(Conv2D(filters=256,kernel_size=(2,2),strides=(1,1),padding='valid',activation='relu'))\n",
    "model.add(Conv2D(filters=384,kernel_size=(2,2),strides=(1,1),padding='valid',activation='relu'))\n",
    "model.add(Conv2D(filters=384,kernel_size=(2,2),strides=(1,1),padding='valid',activation='relu'))\n",
    "model.add(MaxPooling2D(pool_size=(2, 2),padding='valid'))\n",
    "model.add(Flatten())\n",
    "model.add(Activation('relu'))\n",
    "model.add(Dense(512))\n",
    "model.add(Activation('relu'))\n",
    "model.add(Dropout(0.5))\n",
    "model.add(Dense(512))\n",
    "model.add(Activation('relu'))\n",
    "model.add(Dropout(0.5))\n",
    "model.add(Dense(7))\n",
    "model.add(Activation('softmax'))"
   ]
  },
  {
   "cell_type": "code",
   "execution_count": 9,
   "metadata": {},
   "outputs": [
    {
     "name": "stdout",
     "output_type": "stream",
     "text": [
      "_________________________________________________________________\n",
      "Layer (type)                 Output Shape              Param #   \n",
      "=================================================================\n",
      "conv2d_5 (Conv2D)            (None, 48, 48, 96)        960       \n",
      "_________________________________________________________________\n",
      "max_pooling2d_3 (MaxPooling2 (None, 24, 24, 96)        0         \n",
      "_________________________________________________________________\n",
      "conv2d_6 (Conv2D)            (None, 23, 23, 256)       98560     \n",
      "_________________________________________________________________\n",
      "conv2d_7 (Conv2D)            (None, 22, 22, 384)       393600    \n",
      "_________________________________________________________________\n",
      "conv2d_8 (Conv2D)            (None, 21, 21, 384)       590208    \n",
      "_________________________________________________________________\n",
      "max_pooling2d_4 (MaxPooling2 (None, 10, 10, 384)       0         \n",
      "_________________________________________________________________\n",
      "flatten_2 (Flatten)          (None, 38400)             0         \n",
      "_________________________________________________________________\n",
      "activation_5 (Activation)    (None, 38400)             0         \n",
      "_________________________________________________________________\n",
      "dense_4 (Dense)              (None, 512)               19661312  \n",
      "_________________________________________________________________\n",
      "activation_6 (Activation)    (None, 512)               0         \n",
      "_________________________________________________________________\n",
      "dropout_3 (Dropout)          (None, 512)               0         \n",
      "_________________________________________________________________\n",
      "dense_5 (Dense)              (None, 512)               262656    \n",
      "_________________________________________________________________\n",
      "activation_7 (Activation)    (None, 512)               0         \n",
      "_________________________________________________________________\n",
      "dropout_4 (Dropout)          (None, 512)               0         \n",
      "_________________________________________________________________\n",
      "dense_6 (Dense)              (None, 7)                 3591      \n",
      "_________________________________________________________________\n",
      "activation_8 (Activation)    (None, 7)                 0         \n",
      "=================================================================\n",
      "Total params: 21,010,887\n",
      "Trainable params: 21,010,887\n",
      "Non-trainable params: 0\n",
      "_________________________________________________________________\n"
     ]
    }
   ],
   "source": [
    "model.summary()"
   ]
  },
  {
   "cell_type": "code",
   "execution_count": 1,
   "metadata": {},
   "outputs": [
    {
     "name": "stderr",
     "output_type": "stream",
     "text": [
      "/home/hardik/anaconda3/lib/python3.6/site-packages/h5py/__init__.py:34: FutureWarning: Conversion of the second argument of issubdtype from `float` to `np.floating` is deprecated. In future, it will be treated as `np.float64 == np.dtype(float).type`.\n",
      "  from ._conv import register_converters as _register_converters\n",
      "Using TensorFlow backend.\n"
     ]
    },
    {
     "ename": "NameError",
     "evalue": "name 'model' is not defined",
     "output_type": "error",
     "traceback": [
      "\u001b[0;31m---------------------------------------------------------------------------\u001b[0m",
      "\u001b[0;31mNameError\u001b[0m                                 Traceback (most recent call last)",
      "\u001b[0;32m<ipython-input-1-d630dabba1c7>\u001b[0m in \u001b[0;36m<module>\u001b[0;34m()\u001b[0m\n\u001b[1;32m      1\u001b[0m \u001b[0;32mfrom\u001b[0m \u001b[0mkeras\u001b[0m\u001b[0;34m.\u001b[0m\u001b[0moptimizers\u001b[0m \u001b[0;32mimport\u001b[0m \u001b[0mAdam\u001b[0m\u001b[0;34m\u001b[0m\u001b[0m\n\u001b[1;32m      2\u001b[0m \u001b[0mar\u001b[0m\u001b[0;34m=\u001b[0m\u001b[0mAdam\u001b[0m\u001b[0;34m(\u001b[0m\u001b[0mlr\u001b[0m\u001b[0;34m=\u001b[0m\u001b[0;36m0.01\u001b[0m\u001b[0;34m,\u001b[0m \u001b[0mbeta_1\u001b[0m\u001b[0;34m=\u001b[0m\u001b[0;36m0.9\u001b[0m\u001b[0;34m,\u001b[0m \u001b[0mbeta_2\u001b[0m\u001b[0;34m=\u001b[0m\u001b[0;36m0.999\u001b[0m\u001b[0;34m,\u001b[0m\u001b[0mdecay\u001b[0m\u001b[0;34m=\u001b[0m\u001b[0;36m1e-6\u001b[0m\u001b[0;34m)\u001b[0m\u001b[0;34m\u001b[0m\u001b[0m\n\u001b[0;32m----> 3\u001b[0;31m \u001b[0mmodel\u001b[0m\u001b[0;34m.\u001b[0m\u001b[0mcompile\u001b[0m\u001b[0;34m(\u001b[0m\u001b[0mloss\u001b[0m\u001b[0;34m=\u001b[0m\u001b[0;34m'binary_crossentropy'\u001b[0m\u001b[0;34m,\u001b[0m\u001b[0moptimizer\u001b[0m\u001b[0;34m=\u001b[0m\u001b[0mar\u001b[0m\u001b[0;34m,\u001b[0m\u001b[0mmetrics\u001b[0m\u001b[0;34m=\u001b[0m\u001b[0;34m[\u001b[0m\u001b[0;34m'accuracy'\u001b[0m\u001b[0;34m]\u001b[0m\u001b[0;34m)\u001b[0m\u001b[0;34m\u001b[0m\u001b[0m\n\u001b[0m",
      "\u001b[0;31mNameError\u001b[0m: name 'model' is not defined"
     ]
    }
   ],
   "source": [
    "from keras.optimizers import Adam\n",
    "ar=Adam(lr=0.01, beta_1=0.9, beta_2=0.999,decay=1e-6)\n",
    "model.compile(loss='binary_crossentropy',optimizer=ar,metrics=['accuracy'])"
   ]
  },
  {
   "cell_type": "code",
   "execution_count": null,
   "metadata": {},
   "outputs": [
    {
     "name": "stdout",
     "output_type": "stream",
     "text": [
      "Train on 25838 samples, validate on 2871 samples\n",
      "Epoch 1/5\n",
      "21248/25838 [=======================>......] - ETA: 7:41 - loss: 0.3866 - acc: 0.8571"
     ]
    }
   ],
   "source": [
    "batch_size=128\n",
    "model.fit(x, y, batch_size=batch_size, epochs=5,\n",
    "              validation_split=0.1, shuffle=True)"
   ]
  },
  {
   "cell_type": "code",
   "execution_count": 28,
   "metadata": {},
   "outputs": [
    {
     "name": "stdout",
     "output_type": "stream",
     "text": [
      "Train on 21531 samples, validate on 7178 samples\n",
      "Epoch 1/10\n",
      "21531/21531 [==============================] - 69s 3ms/step - loss: 0.3310 - acc: 0.8736 - val_loss: 0.3353 - val_acc: 0.8729\n",
      "Epoch 2/10\n",
      "21531/21531 [==============================] - 66s 3ms/step - loss: 0.3261 - acc: 0.8752 - val_loss: 0.3335 - val_acc: 0.8731\n",
      "Epoch 3/10\n",
      "21531/21531 [==============================] - 66s 3ms/step - loss: 0.3181 - acc: 0.8781 - val_loss: 0.3350 - val_acc: 0.8743\n",
      "Epoch 4/10\n",
      "21531/21531 [==============================] - 66s 3ms/step - loss: 0.3101 - acc: 0.8812 - val_loss: 0.3338 - val_acc: 0.8738\n",
      "Epoch 5/10\n",
      "21531/21531 [==============================] - 66s 3ms/step - loss: 0.3035 - acc: 0.8837 - val_loss: 0.3328 - val_acc: 0.8744\n",
      "Epoch 6/10\n",
      "21531/21531 [==============================] - 66s 3ms/step - loss: 0.2962 - acc: 0.8858 - val_loss: 0.3396 - val_acc: 0.8739\n",
      "Epoch 7/10\n",
      "21531/21531 [==============================] - 66s 3ms/step - loss: 0.2895 - acc: 0.8890 - val_loss: 0.3389 - val_acc: 0.8740\n",
      "Epoch 8/10\n",
      "21531/21531 [==============================] - 66s 3ms/step - loss: 0.2806 - acc: 0.8914 - val_loss: 0.3534 - val_acc: 0.8732\n",
      "Epoch 9/10\n",
      "21531/21531 [==============================] - 66s 3ms/step - loss: 0.2725 - acc: 0.8943 - val_loss: 0.3462 - val_acc: 0.8740\n",
      "Epoch 10/10\n",
      "21531/21531 [==============================] - 66s 3ms/step - loss: 0.2629 - acc: 0.8979 - val_loss: 0.3443 - val_acc: 0.8741\n"
     ]
    }
   ],
   "source": [
    "batch_size=64\n",
    "model.fit(x, y, batch_size=batch_size, epochs=10,\n",
    "              validation_split=0.25, shuffle=True)\n",
    "model.save('./model2_20epochs.h5')"
   ]
  },
  {
   "cell_type": "code",
   "execution_count": null,
   "metadata": {
    "collapsed": true
   },
   "outputs": [],
   "source": []
  },
  {
   "cell_type": "code",
   "execution_count": 27,
   "metadata": {},
   "outputs": [
    {
     "name": "stdout",
     "output_type": "stream",
     "text": [
      "_________________________________________________________________\n",
      "Layer (type)                 Output Shape              Param #   \n",
      "=================================================================\n",
      "conv2d_33 (Conv2D)           (None, 48, 48, 16)        80        \n",
      "_________________________________________________________________\n",
      "max_pooling2d_33 (MaxPooling (None, 24, 24, 16)        0         \n",
      "_________________________________________________________________\n",
      "conv2d_34 (Conv2D)           (None, 24, 24, 32)        2080      \n",
      "_________________________________________________________________\n",
      "max_pooling2d_34 (MaxPooling (None, 12, 12, 32)        0         \n",
      "_________________________________________________________________\n",
      "conv2d_35 (Conv2D)           (None, 12, 12, 64)        8256      \n",
      "_________________________________________________________________\n",
      "max_pooling2d_35 (MaxPooling (None, 6, 6, 64)          0         \n",
      "_________________________________________________________________\n",
      "flatten_11 (Flatten)         (None, 2304)              0         \n",
      "_________________________________________________________________\n",
      "activation_51 (Activation)   (None, 2304)              0         \n",
      "_________________________________________________________________\n",
      "dense_41 (Dense)             (None, 1024)              2360320   \n",
      "_________________________________________________________________\n",
      "activation_52 (Activation)   (None, 1024)              0         \n",
      "_________________________________________________________________\n",
      "dropout_33 (Dropout)         (None, 1024)              0         \n",
      "_________________________________________________________________\n",
      "dense_42 (Dense)             (None, 256)               262400    \n",
      "_________________________________________________________________\n",
      "activation_53 (Activation)   (None, 256)               0         \n",
      "_________________________________________________________________\n",
      "dropout_34 (Dropout)         (None, 256)               0         \n",
      "_________________________________________________________________\n",
      "dense_43 (Dense)             (None, 64)                16448     \n",
      "_________________________________________________________________\n",
      "activation_54 (Activation)   (None, 64)                0         \n",
      "_________________________________________________________________\n",
      "dropout_35 (Dropout)         (None, 64)                0         \n",
      "_________________________________________________________________\n",
      "dense_44 (Dense)             (None, 7)                 455       \n",
      "_________________________________________________________________\n",
      "activation_55 (Activation)   (None, 7)                 0         \n",
      "=================================================================\n",
      "Total params: 2,650,039\n",
      "Trainable params: 2,650,039\n",
      "Non-trainable params: 0\n",
      "_________________________________________________________________\n",
      "None\n",
      "Train on 21531 samples, validate on 7178 samples\n",
      "Epoch 1/10\n",
      "21531/21531 [==============================] - 115s 5ms/step - loss: 0.5579 - acc: 0.8500 - val_loss: 0.3891 - val_acc: 0.8571\n",
      "Epoch 2/10\n",
      "21531/21531 [==============================] - 139s 6ms/step - loss: 0.3909 - acc: 0.8571 - val_loss: 0.3868 - val_acc: 0.8571\n",
      "Epoch 3/10\n",
      "21531/21531 [==============================] - 140s 6ms/step - loss: 0.3896 - acc: 0.8571 - val_loss: 0.3866 - val_acc: 0.8571\n",
      "Epoch 4/10\n",
      "21531/21531 [==============================] - 137s 6ms/step - loss: 0.3881 - acc: 0.8572 - val_loss: 0.3852 - val_acc: 0.8571\n",
      "Epoch 5/10\n",
      "21531/21531 [==============================] - 109s 5ms/step - loss: 0.3867 - acc: 0.8571 - val_loss: 0.3835 - val_acc: 0.8571\n",
      "Epoch 6/10\n",
      "21531/21531 [==============================] - 108s 5ms/step - loss: 0.3852 - acc: 0.8570 - val_loss: 0.3819 - val_acc: 0.8570\n",
      "Epoch 7/10\n",
      "21531/21531 [==============================] - 108s 5ms/step - loss: 0.3816 - acc: 0.8575 - val_loss: 0.3691 - val_acc: 0.8599\n",
      "Epoch 8/10\n",
      "21531/21531 [==============================] - 108s 5ms/step - loss: 0.3727 - acc: 0.8608 - val_loss: 0.3605 - val_acc: 0.8645\n",
      "Epoch 9/10\n",
      "21531/21531 [==============================] - 109s 5ms/step - loss: 0.3615 - acc: 0.8648 - val_loss: 0.3547 - val_acc: 0.8660\n",
      "Epoch 10/10\n",
      "21531/21531 [==============================] - 112s 5ms/step - loss: 0.3527 - acc: 0.8677 - val_loss: 0.3457 - val_acc: 0.8694\n"
     ]
    },
    {
     "data": {
      "text/plain": [
       "<keras.callbacks.History at 0x7fa56f1e8c18>"
      ]
     },
     "execution_count": 27,
     "metadata": {},
     "output_type": "execute_result"
    }
   ],
   "source": [
    "from keras.optimizers import Adam\n",
    "model3=Sequential()\n",
    "model3.add(Conv2D(filters=16,kernel_size=(2,2),strides=(1,1),padding='same',activation='relu',input_shape=x.shape[1:]))\n",
    "model3.add(MaxPooling2D(pool_size=(2, 2),padding='valid'))\n",
    "model3.add(Conv2D(filters=32,kernel_size=(2,2),strides=(1,1),padding='same',activation='relu'))\n",
    "model3.add(MaxPooling2D(pool_size=(2, 2),padding='valid'))\n",
    "model3.add(Conv2D(filters=64,kernel_size=(2,2),strides=(1,1),padding='same',activation='relu'))\n",
    "model3.add(MaxPooling2D(pool_size=(2, 2),padding='valid'))\n",
    "model3.add(Flatten())\n",
    "model3.add(Activation('relu'))\n",
    "model3.add(Dense(1024))\n",
    "model3.add(Activation('relu'))\n",
    "model3.add(Dropout(0.5))\n",
    "model3.add(Dense(256))\n",
    "model3.add(Activation('relu'))\n",
    "model3.add(Dropout(0.5))\n",
    "model3.add(Dense(64))\n",
    "model3.add(Activation('relu'))\n",
    "model3.add(Dropout(0.5))\n",
    "model3.add(Dense(7))\n",
    "model3.add(Activation('softmax'))\n",
    "ar=Adam(lr=0.001, beta_1=0.9, beta_2=0.999,decay=1e-6)\n",
    "model3.compile(loss='binary_crossentropy',optimizer=ar,metrics=['accuracy'])\n",
    "print(model3.summary())\n",
    "batch_size=64\n",
    "model3.fit(x, y, batch_size=batch_size, epochs=10,\n",
    "              validation_split=0.25, shuffle=True)\n"
   ]
  },
  {
   "cell_type": "code",
   "execution_count": 29,
   "metadata": {},
   "outputs": [
    {
     "name": "stdout",
     "output_type": "stream",
     "text": [
      "Train on 21531 samples, validate on 7178 samples\n",
      "Epoch 1/10\n",
      "21531/21531 [==============================] - 106s 5ms/step - loss: 0.3450 - acc: 0.8696 - val_loss: 0.3371 - val_acc: 0.8718\n",
      "Epoch 2/10\n",
      "21531/21531 [==============================] - 106s 5ms/step - loss: 0.3396 - acc: 0.8708 - val_loss: 0.3354 - val_acc: 0.8717\n",
      "Epoch 3/10\n",
      "21531/21531 [==============================] - 106s 5ms/step - loss: 0.3331 - acc: 0.8727 - val_loss: 0.3272 - val_acc: 0.8743\n",
      "Epoch 4/10\n",
      "21531/21531 [==============================] - 106s 5ms/step - loss: 0.3252 - acc: 0.8745 - val_loss: 0.3265 - val_acc: 0.8740\n",
      "Epoch 5/10\n",
      "21531/21531 [==============================] - 106s 5ms/step - loss: 0.3190 - acc: 0.8772 - val_loss: 0.3291 - val_acc: 0.8730\n",
      "Epoch 6/10\n",
      "21531/21531 [==============================] - 106s 5ms/step - loss: 0.3108 - acc: 0.8795 - val_loss: 0.3167 - val_acc: 0.8773\n",
      "Epoch 7/10\n",
      "21531/21531 [==============================] - 106s 5ms/step - loss: 0.3010 - acc: 0.8829 - val_loss: 0.3237 - val_acc: 0.8760\n",
      "Epoch 8/10\n",
      "21531/21531 [==============================] - 106s 5ms/step - loss: 0.2927 - acc: 0.8863 - val_loss: 0.3168 - val_acc: 0.8780\n",
      "Epoch 9/10\n",
      "21531/21531 [==============================] - 107s 5ms/step - loss: 0.2818 - acc: 0.8893 - val_loss: 0.3150 - val_acc: 0.8797\n",
      "Epoch 10/10\n",
      "21531/21531 [==============================] - 106s 5ms/step - loss: 0.2681 - acc: 0.8949 - val_loss: 0.3155 - val_acc: 0.8791\n"
     ]
    },
    {
     "data": {
      "text/plain": [
       "<keras.callbacks.History at 0x7fa56ec195f8>"
      ]
     },
     "execution_count": 29,
     "metadata": {},
     "output_type": "execute_result"
    }
   ],
   "source": [
    "batch_size=64\n",
    "model3.fit(x, y, batch_size=batch_size, epochs=10,\n",
    "              validation_split=0.25, shuffle=True)"
   ]
  },
  {
   "cell_type": "code",
   "execution_count": null,
   "metadata": {
    "collapsed": true
   },
   "outputs": [],
   "source": []
  },
  {
   "cell_type": "code",
   "execution_count": null,
   "metadata": {
    "collapsed": true
   },
   "outputs": [],
   "source": []
  },
  {
   "cell_type": "code",
   "execution_count": null,
   "metadata": {
    "collapsed": true
   },
   "outputs": [],
   "source": []
  },
  {
   "cell_type": "code",
   "execution_count": null,
   "metadata": {
    "collapsed": true
   },
   "outputs": [],
   "source": []
  },
  {
   "cell_type": "code",
   "execution_count": null,
   "metadata": {
    "collapsed": true
   },
   "outputs": [],
   "source": []
  },
  {
   "cell_type": "code",
   "execution_count": 34,
   "metadata": {},
   "outputs": [
    {
     "name": "stdout",
     "output_type": "stream",
     "text": [
      "_________________________________________________________________\n",
      "Layer (type)                 Output Shape              Param #   \n",
      "=================================================================\n",
      "conv2d_46 (Conv2D)           (None, 48, 48, 32)        320       \n",
      "_________________________________________________________________\n",
      "max_pooling2d_46 (MaxPooling (None, 24, 24, 32)        0         \n",
      "_________________________________________________________________\n",
      "conv2d_47 (Conv2D)           (None, 24, 24, 64)        18496     \n",
      "_________________________________________________________________\n",
      "max_pooling2d_47 (MaxPooling (None, 12, 12, 64)        0         \n",
      "_________________________________________________________________\n",
      "conv2d_48 (Conv2D)           (None, 12, 12, 128)       73856     \n",
      "_________________________________________________________________\n",
      "max_pooling2d_48 (MaxPooling (None, 6, 6, 128)         0         \n",
      "_________________________________________________________________\n",
      "flatten_16 (Flatten)         (None, 4608)              0         \n",
      "_________________________________________________________________\n",
      "activation_76 (Activation)   (None, 4608)              0         \n",
      "_________________________________________________________________\n",
      "dense_61 (Dense)             (None, 1024)              4719616   \n",
      "_________________________________________________________________\n",
      "activation_77 (Activation)   (None, 1024)              0         \n",
      "_________________________________________________________________\n",
      "dropout_48 (Dropout)         (None, 1024)              0         \n",
      "_________________________________________________________________\n",
      "dense_62 (Dense)             (None, 256)               262400    \n",
      "_________________________________________________________________\n",
      "activation_78 (Activation)   (None, 256)               0         \n",
      "_________________________________________________________________\n",
      "dropout_49 (Dropout)         (None, 256)               0         \n",
      "_________________________________________________________________\n",
      "dense_63 (Dense)             (None, 64)                16448     \n",
      "_________________________________________________________________\n",
      "activation_79 (Activation)   (None, 64)                0         \n",
      "_________________________________________________________________\n",
      "dropout_50 (Dropout)         (None, 64)                0         \n",
      "_________________________________________________________________\n",
      "dense_64 (Dense)             (None, 7)                 455       \n",
      "_________________________________________________________________\n",
      "activation_80 (Activation)   (None, 7)                 0         \n",
      "=================================================================\n",
      "Total params: 5,091,591\n",
      "Trainable params: 5,091,591\n",
      "Non-trainable params: 0\n",
      "_________________________________________________________________\n",
      "None\n",
      "Train on 21531 samples, validate on 7178 samples\n",
      "Epoch 1/10\n",
      "21531/21531 [==============================] - 244s 11ms/step - loss: 1.5984 - acc: 0.8196 - val_loss: 0.3931 - val_acc: 0.8571\n",
      "Epoch 2/10\n",
      "21531/21531 [==============================] - 241s 11ms/step - loss: 0.3918 - acc: 0.8571 - val_loss: 0.3894 - val_acc: 0.8571\n",
      "Epoch 3/10\n",
      "21531/21531 [==============================] - 241s 11ms/step - loss: 0.3892 - acc: 0.8570 - val_loss: 0.3801 - val_acc: 0.8571\n",
      "Epoch 4/10\n",
      "21531/21531 [==============================] - 240s 11ms/step - loss: 0.3818 - acc: 0.8570 - val_loss: 0.3663 - val_acc: 0.8586\n",
      "Epoch 5/10\n",
      "21531/21531 [==============================] - 241s 11ms/step - loss: 0.3716 - acc: 0.8607 - val_loss: 0.3555 - val_acc: 0.8658\n",
      "Epoch 6/10\n",
      "21531/21531 [==============================] - 241s 11ms/step - loss: 0.3576 - acc: 0.8661 - val_loss: 0.3404 - val_acc: 0.8708\n",
      "Epoch 7/10\n",
      "21531/21531 [==============================] - 240s 11ms/step - loss: 0.3458 - acc: 0.8696 - val_loss: 0.3287 - val_acc: 0.8738\n",
      "Epoch 8/10\n",
      "21531/21531 [==============================] - 240s 11ms/step - loss: 0.3377 - acc: 0.8716 - val_loss: 0.3250 - val_acc: 0.8742\n",
      "Epoch 9/10\n",
      "21531/21531 [==============================] - 241s 11ms/step - loss: 0.3307 - acc: 0.8731 - val_loss: 0.3160 - val_acc: 0.8769\n",
      "Epoch 10/10\n",
      "21531/21531 [==============================] - 242s 11ms/step - loss: 0.3208 - acc: 0.8762 - val_loss: 0.3094 - val_acc: 0.8792\n"
     ]
    },
    {
     "data": {
      "text/plain": [
       "<keras.callbacks.History at 0x7fa55a127a58>"
      ]
     },
     "execution_count": 34,
     "metadata": {},
     "output_type": "execute_result"
    }
   ],
   "source": [
    "from keras.optimizers import Adam\n",
    "model4=Sequential()\n",
    "model4.add(Conv2D(filters=32,kernel_size=(3,3),strides=(1,1),padding='same',activation='relu',input_shape=x.shape[1:]))\n",
    "model4.add(MaxPooling2D(pool_size=(2, 2),padding='valid'))\n",
    "model4.add(Conv2D(filters=64,kernel_size=(3,3),strides=(1,1),padding='same',activation='relu'))\n",
    "model4.add(MaxPooling2D(pool_size=(2, 2),padding='valid'))\n",
    "model4.add(Conv2D(filters=128,kernel_size=(3,3),strides=(1,1),padding='same',activation='relu'))\n",
    "model4.add(MaxPooling2D(pool_size=(2, 2),padding='valid'))\n",
    "model4.add(Flatten())\n",
    "model4.add(Activation('relu'))\n",
    "model4.add(Dense(1024))\n",
    "model4.add(Activation('relu'))\n",
    "model4.add(Dropout(0.5))\n",
    "model4.add(Dense(256))\n",
    "model4.add(Activation('relu'))\n",
    "model4.add(Dropout(0.5))\n",
    "model4.add(Dense(64))\n",
    "model4.add(Activation('relu'))\n",
    "model4.add(Dropout(0.5))\n",
    "model4.add(Dense(7))\n",
    "model4.add(Activation('softmax'))\n",
    "ar=Adam(lr=0.001, beta_1=0.9, beta_2=0.999,decay=1e-6)\n",
    "model4.compile(loss='binary_crossentropy',optimizer=ar,metrics=['accuracy'])\n",
    "print(model4.summary())\n",
    "batch_size=128\n",
    "model4.fit(x, y, batch_size=batch_size, epochs=10,\n",
    "              validation_split=0.25, shuffle=True)\n"
   ]
  },
  {
   "cell_type": "code",
   "execution_count": 35,
   "metadata": {},
   "outputs": [
    {
     "name": "stdout",
     "output_type": "stream",
     "text": [
      "Train on 21531 samples, validate on 7178 samples\n",
      "Epoch 1/10\n",
      "21531/21531 [==============================] - 236s 11ms/step - loss: 0.3135 - acc: 0.8790 - val_loss: 0.3064 - val_acc: 0.8804\n",
      "Epoch 2/10\n",
      "21531/21531 [==============================] - 231s 11ms/step - loss: 0.3066 - acc: 0.8807 - val_loss: 0.3044 - val_acc: 0.8798\n",
      "Epoch 3/10\n",
      "21531/21531 [==============================] - 228s 11ms/step - loss: 0.2974 - acc: 0.8843 - val_loss: 0.3016 - val_acc: 0.8827\n",
      "Epoch 4/10\n",
      "21531/21531 [==============================] - 229s 11ms/step - loss: 0.2883 - acc: 0.8874 - val_loss: 0.3047 - val_acc: 0.8814\n",
      "Epoch 5/10\n",
      "21531/21531 [==============================] - 228s 11ms/step - loss: 0.2789 - acc: 0.8907 - val_loss: 0.2975 - val_acc: 0.8849\n",
      "Epoch 6/10\n",
      "21531/21531 [==============================] - 223s 10ms/step - loss: 0.2667 - acc: 0.8956 - val_loss: 0.3029 - val_acc: 0.8850\n",
      "Epoch 7/10\n",
      "21531/21531 [==============================] - 198s 9ms/step - loss: 0.2570 - acc: 0.8984 - val_loss: 0.3037 - val_acc: 0.8841\n",
      "Epoch 8/10\n",
      "21531/21531 [==============================] - 197s 9ms/step - loss: 0.2444 - acc: 0.9047 - val_loss: 0.2985 - val_acc: 0.8865\n",
      "Epoch 9/10\n",
      "21531/21531 [==============================] - 199s 9ms/step - loss: 0.2303 - acc: 0.9096 - val_loss: 0.3095 - val_acc: 0.8851\n",
      "Epoch 10/10\n",
      "21531/21531 [==============================] - 197s 9ms/step - loss: 0.2169 - acc: 0.9150 - val_loss: 0.3102 - val_acc: 0.8853\n"
     ]
    },
    {
     "data": {
      "text/plain": [
       "<keras.callbacks.History at 0x7fa528480ac8>"
      ]
     },
     "execution_count": 35,
     "metadata": {},
     "output_type": "execute_result"
    }
   ],
   "source": [
    "model4.fit(x, y, batch_size=batch_size, epochs=10,\n",
    "              validation_split=0.25, shuffle=True)\n"
   ]
  },
  {
   "cell_type": "code",
   "execution_count": 38,
   "metadata": {
    "collapsed": true
   },
   "outputs": [],
   "source": [
    "model4.save('./mode_best.h5')"
   ]
  },
  {
   "cell_type": "code",
   "execution_count": 37,
   "metadata": {},
   "outputs": [
    {
     "name": "stdout",
     "output_type": "stream",
     "text": [
      "Train on 21531 samples, validate on 7178 samples\n",
      "Epoch 1/5\n",
      "21531/21531 [==============================] - 217s 10ms/step - loss: 0.2065 - acc: 0.9198 - val_loss: 0.3214 - val_acc: 0.8837\n",
      "Epoch 2/5\n",
      "21531/21531 [==============================] - 207s 10ms/step - loss: 0.1948 - acc: 0.9249 - val_loss: 0.3292 - val_acc: 0.8832\n",
      "Epoch 3/5\n",
      " 4352/21531 [=====>........................] - ETA: 2:27 - loss: 0.1913 - acc: 0.9258"
     ]
    },
    {
     "ename": "KeyboardInterrupt",
     "evalue": "",
     "output_type": "error",
     "traceback": [
      "\u001b[0;31m---------------------------------------------------------------------------\u001b[0m",
      "\u001b[0;31mKeyboardInterrupt\u001b[0m                         Traceback (most recent call last)",
      "\u001b[0;32m<ipython-input-37-ee4cad87bf25>\u001b[0m in \u001b[0;36m<module>\u001b[0;34m()\u001b[0m\n\u001b[1;32m      1\u001b[0m model4.fit(x, y, batch_size=batch_size, epochs=5,\n\u001b[0;32m----> 2\u001b[0;31m               validation_split=0.25, shuffle=True)\n\u001b[0m",
      "\u001b[0;32m~/anaconda3/lib/python3.6/site-packages/keras/models.py\u001b[0m in \u001b[0;36mfit\u001b[0;34m(self, x, y, batch_size, epochs, verbose, callbacks, validation_split, validation_data, shuffle, class_weight, sample_weight, initial_epoch, steps_per_epoch, validation_steps, **kwargs)\u001b[0m\n\u001b[1;32m    958\u001b[0m                               \u001b[0minitial_epoch\u001b[0m\u001b[0;34m=\u001b[0m\u001b[0minitial_epoch\u001b[0m\u001b[0;34m,\u001b[0m\u001b[0;34m\u001b[0m\u001b[0m\n\u001b[1;32m    959\u001b[0m                               \u001b[0msteps_per_epoch\u001b[0m\u001b[0;34m=\u001b[0m\u001b[0msteps_per_epoch\u001b[0m\u001b[0;34m,\u001b[0m\u001b[0;34m\u001b[0m\u001b[0m\n\u001b[0;32m--> 960\u001b[0;31m                               validation_steps=validation_steps)\n\u001b[0m\u001b[1;32m    961\u001b[0m \u001b[0;34m\u001b[0m\u001b[0m\n\u001b[1;32m    962\u001b[0m     def evaluate(self, x, y, batch_size=32, verbose=1,\n",
      "\u001b[0;32m~/anaconda3/lib/python3.6/site-packages/keras/engine/training.py\u001b[0m in \u001b[0;36mfit\u001b[0;34m(self, x, y, batch_size, epochs, verbose, callbacks, validation_split, validation_data, shuffle, class_weight, sample_weight, initial_epoch, steps_per_epoch, validation_steps, **kwargs)\u001b[0m\n\u001b[1;32m   1655\u001b[0m                               \u001b[0minitial_epoch\u001b[0m\u001b[0;34m=\u001b[0m\u001b[0minitial_epoch\u001b[0m\u001b[0;34m,\u001b[0m\u001b[0;34m\u001b[0m\u001b[0m\n\u001b[1;32m   1656\u001b[0m                               \u001b[0msteps_per_epoch\u001b[0m\u001b[0;34m=\u001b[0m\u001b[0msteps_per_epoch\u001b[0m\u001b[0;34m,\u001b[0m\u001b[0;34m\u001b[0m\u001b[0m\n\u001b[0;32m-> 1657\u001b[0;31m                               validation_steps=validation_steps)\n\u001b[0m\u001b[1;32m   1658\u001b[0m \u001b[0;34m\u001b[0m\u001b[0m\n\u001b[1;32m   1659\u001b[0m     def evaluate(self, x=None, y=None,\n",
      "\u001b[0;32m~/anaconda3/lib/python3.6/site-packages/keras/engine/training.py\u001b[0m in \u001b[0;36m_fit_loop\u001b[0;34m(self, f, ins, out_labels, batch_size, epochs, verbose, callbacks, val_f, val_ins, shuffle, callback_metrics, initial_epoch, steps_per_epoch, validation_steps)\u001b[0m\n\u001b[1;32m   1211\u001b[0m                     \u001b[0mbatch_logs\u001b[0m\u001b[0;34m[\u001b[0m\u001b[0;34m'size'\u001b[0m\u001b[0;34m]\u001b[0m \u001b[0;34m=\u001b[0m \u001b[0mlen\u001b[0m\u001b[0;34m(\u001b[0m\u001b[0mbatch_ids\u001b[0m\u001b[0;34m)\u001b[0m\u001b[0;34m\u001b[0m\u001b[0m\n\u001b[1;32m   1212\u001b[0m                     \u001b[0mcallbacks\u001b[0m\u001b[0;34m.\u001b[0m\u001b[0mon_batch_begin\u001b[0m\u001b[0;34m(\u001b[0m\u001b[0mbatch_index\u001b[0m\u001b[0;34m,\u001b[0m \u001b[0mbatch_logs\u001b[0m\u001b[0;34m)\u001b[0m\u001b[0;34m\u001b[0m\u001b[0m\n\u001b[0;32m-> 1213\u001b[0;31m                     \u001b[0mouts\u001b[0m \u001b[0;34m=\u001b[0m \u001b[0mf\u001b[0m\u001b[0;34m(\u001b[0m\u001b[0mins_batch\u001b[0m\u001b[0;34m)\u001b[0m\u001b[0;34m\u001b[0m\u001b[0m\n\u001b[0m\u001b[1;32m   1214\u001b[0m                     \u001b[0;32mif\u001b[0m \u001b[0;32mnot\u001b[0m \u001b[0misinstance\u001b[0m\u001b[0;34m(\u001b[0m\u001b[0mouts\u001b[0m\u001b[0;34m,\u001b[0m \u001b[0mlist\u001b[0m\u001b[0;34m)\u001b[0m\u001b[0;34m:\u001b[0m\u001b[0;34m\u001b[0m\u001b[0m\n\u001b[1;32m   1215\u001b[0m                         \u001b[0mouts\u001b[0m \u001b[0;34m=\u001b[0m \u001b[0;34m[\u001b[0m\u001b[0mouts\u001b[0m\u001b[0;34m]\u001b[0m\u001b[0;34m\u001b[0m\u001b[0m\n",
      "\u001b[0;32m~/anaconda3/lib/python3.6/site-packages/keras/backend/tensorflow_backend.py\u001b[0m in \u001b[0;36m__call__\u001b[0;34m(self, inputs)\u001b[0m\n\u001b[1;32m   2355\u001b[0m         \u001b[0msession\u001b[0m \u001b[0;34m=\u001b[0m \u001b[0mget_session\u001b[0m\u001b[0;34m(\u001b[0m\u001b[0;34m)\u001b[0m\u001b[0;34m\u001b[0m\u001b[0m\n\u001b[1;32m   2356\u001b[0m         updated = session.run(fetches=fetches, feed_dict=feed_dict,\n\u001b[0;32m-> 2357\u001b[0;31m                               **self.session_kwargs)\n\u001b[0m\u001b[1;32m   2358\u001b[0m         \u001b[0;32mreturn\u001b[0m \u001b[0mupdated\u001b[0m\u001b[0;34m[\u001b[0m\u001b[0;34m:\u001b[0m\u001b[0mlen\u001b[0m\u001b[0;34m(\u001b[0m\u001b[0mself\u001b[0m\u001b[0;34m.\u001b[0m\u001b[0moutputs\u001b[0m\u001b[0;34m)\u001b[0m\u001b[0;34m]\u001b[0m\u001b[0;34m\u001b[0m\u001b[0m\n\u001b[1;32m   2359\u001b[0m \u001b[0;34m\u001b[0m\u001b[0m\n",
      "\u001b[0;32m~/anaconda3/lib/python3.6/site-packages/tensorflow/python/client/session.py\u001b[0m in \u001b[0;36mrun\u001b[0;34m(self, fetches, feed_dict, options, run_metadata)\u001b[0m\n\u001b[1;32m    893\u001b[0m     \u001b[0;32mtry\u001b[0m\u001b[0;34m:\u001b[0m\u001b[0;34m\u001b[0m\u001b[0m\n\u001b[1;32m    894\u001b[0m       result = self._run(None, fetches, feed_dict, options_ptr,\n\u001b[0;32m--> 895\u001b[0;31m                          run_metadata_ptr)\n\u001b[0m\u001b[1;32m    896\u001b[0m       \u001b[0;32mif\u001b[0m \u001b[0mrun_metadata\u001b[0m\u001b[0;34m:\u001b[0m\u001b[0;34m\u001b[0m\u001b[0m\n\u001b[1;32m    897\u001b[0m         \u001b[0mproto_data\u001b[0m \u001b[0;34m=\u001b[0m \u001b[0mtf_session\u001b[0m\u001b[0;34m.\u001b[0m\u001b[0mTF_GetBuffer\u001b[0m\u001b[0;34m(\u001b[0m\u001b[0mrun_metadata_ptr\u001b[0m\u001b[0;34m)\u001b[0m\u001b[0;34m\u001b[0m\u001b[0m\n",
      "\u001b[0;32m~/anaconda3/lib/python3.6/site-packages/tensorflow/python/client/session.py\u001b[0m in \u001b[0;36m_run\u001b[0;34m(self, handle, fetches, feed_dict, options, run_metadata)\u001b[0m\n\u001b[1;32m   1122\u001b[0m     \u001b[0;32mif\u001b[0m \u001b[0mfinal_fetches\u001b[0m \u001b[0;32mor\u001b[0m \u001b[0mfinal_targets\u001b[0m \u001b[0;32mor\u001b[0m \u001b[0;34m(\u001b[0m\u001b[0mhandle\u001b[0m \u001b[0;32mand\u001b[0m \u001b[0mfeed_dict_tensor\u001b[0m\u001b[0;34m)\u001b[0m\u001b[0;34m:\u001b[0m\u001b[0;34m\u001b[0m\u001b[0m\n\u001b[1;32m   1123\u001b[0m       results = self._do_run(handle, final_targets, final_fetches,\n\u001b[0;32m-> 1124\u001b[0;31m                              feed_dict_tensor, options, run_metadata)\n\u001b[0m\u001b[1;32m   1125\u001b[0m     \u001b[0;32melse\u001b[0m\u001b[0;34m:\u001b[0m\u001b[0;34m\u001b[0m\u001b[0m\n\u001b[1;32m   1126\u001b[0m       \u001b[0mresults\u001b[0m \u001b[0;34m=\u001b[0m \u001b[0;34m[\u001b[0m\u001b[0;34m]\u001b[0m\u001b[0;34m\u001b[0m\u001b[0m\n",
      "\u001b[0;32m~/anaconda3/lib/python3.6/site-packages/tensorflow/python/client/session.py\u001b[0m in \u001b[0;36m_do_run\u001b[0;34m(self, handle, target_list, fetch_list, feed_dict, options, run_metadata)\u001b[0m\n\u001b[1;32m   1319\u001b[0m     \u001b[0;32mif\u001b[0m \u001b[0mhandle\u001b[0m \u001b[0;32mis\u001b[0m \u001b[0;32mNone\u001b[0m\u001b[0;34m:\u001b[0m\u001b[0;34m\u001b[0m\u001b[0m\n\u001b[1;32m   1320\u001b[0m       return self._do_call(_run_fn, self._session, feeds, fetches, targets,\n\u001b[0;32m-> 1321\u001b[0;31m                            options, run_metadata)\n\u001b[0m\u001b[1;32m   1322\u001b[0m     \u001b[0;32melse\u001b[0m\u001b[0;34m:\u001b[0m\u001b[0;34m\u001b[0m\u001b[0m\n\u001b[1;32m   1323\u001b[0m       \u001b[0;32mreturn\u001b[0m \u001b[0mself\u001b[0m\u001b[0;34m.\u001b[0m\u001b[0m_do_call\u001b[0m\u001b[0;34m(\u001b[0m\u001b[0m_prun_fn\u001b[0m\u001b[0;34m,\u001b[0m \u001b[0mself\u001b[0m\u001b[0;34m.\u001b[0m\u001b[0m_session\u001b[0m\u001b[0;34m,\u001b[0m \u001b[0mhandle\u001b[0m\u001b[0;34m,\u001b[0m \u001b[0mfeeds\u001b[0m\u001b[0;34m,\u001b[0m \u001b[0mfetches\u001b[0m\u001b[0;34m)\u001b[0m\u001b[0;34m\u001b[0m\u001b[0m\n",
      "\u001b[0;32m~/anaconda3/lib/python3.6/site-packages/tensorflow/python/client/session.py\u001b[0m in \u001b[0;36m_do_call\u001b[0;34m(self, fn, *args)\u001b[0m\n\u001b[1;32m   1325\u001b[0m   \u001b[0;32mdef\u001b[0m \u001b[0m_do_call\u001b[0m\u001b[0;34m(\u001b[0m\u001b[0mself\u001b[0m\u001b[0;34m,\u001b[0m \u001b[0mfn\u001b[0m\u001b[0;34m,\u001b[0m \u001b[0;34m*\u001b[0m\u001b[0margs\u001b[0m\u001b[0;34m)\u001b[0m\u001b[0;34m:\u001b[0m\u001b[0;34m\u001b[0m\u001b[0m\n\u001b[1;32m   1326\u001b[0m     \u001b[0;32mtry\u001b[0m\u001b[0;34m:\u001b[0m\u001b[0;34m\u001b[0m\u001b[0m\n\u001b[0;32m-> 1327\u001b[0;31m       \u001b[0;32mreturn\u001b[0m \u001b[0mfn\u001b[0m\u001b[0;34m(\u001b[0m\u001b[0;34m*\u001b[0m\u001b[0margs\u001b[0m\u001b[0;34m)\u001b[0m\u001b[0;34m\u001b[0m\u001b[0m\n\u001b[0m\u001b[1;32m   1328\u001b[0m     \u001b[0;32mexcept\u001b[0m \u001b[0merrors\u001b[0m\u001b[0;34m.\u001b[0m\u001b[0mOpError\u001b[0m \u001b[0;32mas\u001b[0m \u001b[0me\u001b[0m\u001b[0;34m:\u001b[0m\u001b[0;34m\u001b[0m\u001b[0m\n\u001b[1;32m   1329\u001b[0m       \u001b[0mmessage\u001b[0m \u001b[0;34m=\u001b[0m \u001b[0mcompat\u001b[0m\u001b[0;34m.\u001b[0m\u001b[0mas_text\u001b[0m\u001b[0;34m(\u001b[0m\u001b[0me\u001b[0m\u001b[0;34m.\u001b[0m\u001b[0mmessage\u001b[0m\u001b[0;34m)\u001b[0m\u001b[0;34m\u001b[0m\u001b[0m\n",
      "\u001b[0;32m~/anaconda3/lib/python3.6/site-packages/tensorflow/python/client/session.py\u001b[0m in \u001b[0;36m_run_fn\u001b[0;34m(session, feed_dict, fetch_list, target_list, options, run_metadata)\u001b[0m\n\u001b[1;32m   1304\u001b[0m           return tf_session.TF_Run(session, options,\n\u001b[1;32m   1305\u001b[0m                                    \u001b[0mfeed_dict\u001b[0m\u001b[0;34m,\u001b[0m \u001b[0mfetch_list\u001b[0m\u001b[0;34m,\u001b[0m \u001b[0mtarget_list\u001b[0m\u001b[0;34m,\u001b[0m\u001b[0;34m\u001b[0m\u001b[0m\n\u001b[0;32m-> 1306\u001b[0;31m                                    status, run_metadata)\n\u001b[0m\u001b[1;32m   1307\u001b[0m \u001b[0;34m\u001b[0m\u001b[0m\n\u001b[1;32m   1308\u001b[0m     \u001b[0;32mdef\u001b[0m \u001b[0m_prun_fn\u001b[0m\u001b[0;34m(\u001b[0m\u001b[0msession\u001b[0m\u001b[0;34m,\u001b[0m \u001b[0mhandle\u001b[0m\u001b[0;34m,\u001b[0m \u001b[0mfeed_dict\u001b[0m\u001b[0;34m,\u001b[0m \u001b[0mfetch_list\u001b[0m\u001b[0;34m)\u001b[0m\u001b[0;34m:\u001b[0m\u001b[0;34m\u001b[0m\u001b[0m\n",
      "\u001b[0;31mKeyboardInterrupt\u001b[0m: "
     ]
    }
   ],
   "source": [
    "model4.fit(x, y, batch_size=batch_size, epochs=5,\n",
    "              validation_split=0.25, shuffle=True)\n"
   ]
  },
  {
   "cell_type": "code",
   "execution_count": null,
   "metadata": {
    "collapsed": true
   },
   "outputs": [],
   "source": []
  }
 ],
 "metadata": {
  "kernelspec": {
   "display_name": "Python 3",
   "language": "python",
   "name": "python3"
  },
  "language_info": {
   "codemirror_mode": {
    "name": "ipython",
    "version": 3
   },
   "file_extension": ".py",
   "mimetype": "text/x-python",
   "name": "python",
   "nbconvert_exporter": "python",
   "pygments_lexer": "ipython3",
   "version": "3.6.2"
  }
 },
 "nbformat": 4,
 "nbformat_minor": 2
}
