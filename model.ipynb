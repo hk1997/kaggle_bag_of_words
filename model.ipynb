{
 "cells": [
  {
   "cell_type": "code",
   "execution_count": 1,
   "metadata": {
    "collapsed": true
   },
   "outputs": [],
   "source": [
    "path1 ='/media/hardik/my stuff/batches_text_classification'\n",
    "path2 ='/media/hardik/my stuff/batches_text_classification_y'\n",
    "\n"
   ]
  },
  {
   "cell_type": "code",
   "execution_count": 2,
   "metadata": {
    "collapsed": true
   },
   "outputs": [],
   "source": [
    "import os\n",
    "import numpy as np\n",
    "from random import shuffle\n",
    "def generator(path1,path2,l_test):\n",
    "    l_x = os.listdir(path1)\n",
    "    l_y = os.listdir(path2)\n",
    "    \n",
    "    while True:\n",
    "        shuffle(l_x)\n",
    "        for i in range(len(l_x)):\n",
    "            if(l_x[i] not in l_test):\n",
    "                x=np.load(os.path.join(path1,l_x[i]))\n",
    "                x=x['arr_0']        \n",
    "                index_y = l_y.index(l_x[i])\n",
    "                \n",
    "                y=np.load(os.path.join(path2,l_y[index_y]))\n",
    "                y=y['arr_0']\n",
    "                \n",
    "                yield x,y"
   ]
  },
  {
   "cell_type": "code",
   "execution_count": 3,
   "metadata": {
    "collapsed": true
   },
   "outputs": [],
   "source": [
    "def val_generator(path1,path2,l):\n",
    "    while True:\n",
    "        shuffle(l)\n",
    "        for i in range(len(l)):\n",
    "                x=np.load(os.path.join(path1,l[i]))\n",
    "                x=x['arr_0']        \n",
    "                \n",
    "                y=np.load(os.path.join(path2,l[i]))\n",
    "                y=y['arr_0']\n",
    "                \n",
    "                yield x,y"
   ]
  },
  {
   "cell_type": "code",
   "execution_count": 4,
   "metadata": {
    "collapsed": true
   },
   "outputs": [],
   "source": [
    "def predict_generator(path1,path2,l):\n",
    "    while True:\n",
    "        shuffle(l)\n",
    "        for i in range(len(l)):\n",
    "                x=np.load(os.path.join(path1,l[i]))\n",
    "                x=x['arr_0']        \n",
    "                \n",
    "                y=np.load(os.path.join(path2,l[i]))\n",
    "                y=y['arr_0']\n",
    "                \n",
    "                yield x,y"
   ]
  },
  {
   "cell_type": "code",
   "execution_count": 5,
   "metadata": {
    "collapsed": true
   },
   "outputs": [],
   "source": [
    "from random import randrange\n"
   ]
  },
  {
   "cell_type": "code",
   "execution_count": 6,
   "metadata": {
    "collapsed": true
   },
   "outputs": [],
   "source": [
    "list_test = []\n",
    "for i in range(120):\n",
    "    s=randrange(1,1246)\n",
    "    s=str(s)+'.npz'\n",
    "    list_test.append(s)\n",
    "list_test = set(list_test)    "
   ]
  },
  {
   "cell_type": "code",
   "execution_count": 7,
   "metadata": {},
   "outputs": [
    {
     "data": {
      "text/plain": [
       "117"
      ]
     },
     "execution_count": 7,
     "metadata": {},
     "output_type": "execute_result"
    }
   ],
   "source": [
    "len(list_test)"
   ]
  },
  {
   "cell_type": "code",
   "execution_count": 8,
   "metadata": {},
   "outputs": [
    {
     "name": "stderr",
     "output_type": "stream",
     "text": [
      "/home/hardik/anaconda3/lib/python3.6/site-packages/h5py/__init__.py:34: FutureWarning: Conversion of the second argument of issubdtype from `float` to `np.floating` is deprecated. In future, it will be treated as `np.float64 == np.dtype(float).type`.\n",
      "  from ._conv import register_converters as _register_converters\n",
      "Using TensorFlow backend.\n"
     ]
    }
   ],
   "source": [
    "from keras.models import Sequential\n",
    "from keras.layers import Dense,Input\n",
    "from keras.layers import LSTM,Flatten\n",
    "from keras.layers.embeddings import Embedding\n",
    "from keras.preprocessing import sequence\n",
    "from keras.layers import Conv1D,Dropout,MaxPooling1D\n",
    "from keras.optimizers import RMSprop\n",
    "from keras.models import Model\n",
    "from keras.layers.merge import Concatenate"
   ]
  },
  {
   "cell_type": "code",
   "execution_count": 9,
   "metadata": {
    "collapsed": true
   },
   "outputs": [],
   "source": [
    "# Model Hyperparameters\n",
    "embedding_dim = 300\n",
    "filter_sizes = (3, 8)\n",
    "num_filters = 10\n",
    "dropout_prob = (0.5, 0.8)\n",
    "hidden_dims =300\n"
   ]
  },
  {
   "cell_type": "code",
   "execution_count": 15,
   "metadata": {},
   "outputs": [
    {
     "name": "stdout",
     "output_type": "stream",
     "text": [
      "__________________________________________________________________________________________________\n",
      "Layer (type)                    Output Shape         Param #     Connected to                     \n",
      "==================================================================================================\n",
      "input_3 (InputLayer)            (None, 100, 300)     0                                            \n",
      "__________________________________________________________________________________________________\n",
      "conv1d_5 (Conv1D)               (None, 98, 10)       9010        input_3[0][0]                    \n",
      "__________________________________________________________________________________________________\n",
      "conv1d_6 (Conv1D)               (None, 93, 10)       24010       input_3[0][0]                    \n",
      "__________________________________________________________________________________________________\n",
      "max_pooling1d_5 (MaxPooling1D)  (None, 49, 10)       0           conv1d_5[0][0]                   \n",
      "__________________________________________________________________________________________________\n",
      "max_pooling1d_6 (MaxPooling1D)  (None, 46, 10)       0           conv1d_6[0][0]                   \n",
      "__________________________________________________________________________________________________\n",
      "flatten_5 (Flatten)             (None, 490)          0           max_pooling1d_5[0][0]            \n",
      "__________________________________________________________________________________________________\n",
      "flatten_6 (Flatten)             (None, 460)          0           max_pooling1d_6[0][0]            \n",
      "__________________________________________________________________________________________________\n",
      "concatenate_3 (Concatenate)     (None, 950)          0           flatten_5[0][0]                  \n",
      "                                                                 flatten_6[0][0]                  \n",
      "__________________________________________________________________________________________________\n",
      "dropout_3 (Dropout)             (None, 950)          0           concatenate_3[0][0]              \n",
      "__________________________________________________________________________________________________\n",
      "dense_5 (Dense)                 (None, 300)          285300      dropout_3[0][0]                  \n",
      "__________________________________________________________________________________________________\n",
      "dense_6 (Dense)                 (None, 6)            1806        dense_5[0][0]                    \n",
      "==================================================================================================\n",
      "Total params: 320,126\n",
      "Trainable params: 320,126\n",
      "Non-trainable params: 0\n",
      "__________________________________________________________________________________________________\n",
      "None\n"
     ]
    }
   ],
   "source": [
    "# Convolutional block\n",
    "model_input = Input(shape=(100,300))\n",
    "z=model_input\n",
    "conv_blocks = []\n",
    "for sz in filter_sizes:\n",
    "    conv = Conv1D(filters=num_filters,\n",
    "                         kernel_size=sz,\n",
    "                         padding=\"valid\",\n",
    "                         activation=\"relu\",\n",
    "                         strides=1)(z)\n",
    "    conv = MaxPooling1D(pool_size=2)(conv)\n",
    "    conv = Flatten()(conv)\n",
    "    conv_blocks.append(conv)\n",
    "z = Concatenate()(conv_blocks) if len(conv_blocks) > 1 else conv_blocks[0]\n",
    "\n",
    "z = Dropout(dropout_prob[1])(z)\n",
    "z = Dense(hidden_dims, activation=\"relu\")(z)\n",
    "model_output = Dense(6, activation=\"sigmoid\")(z)\n",
    "\n",
    "model = Model(model_input, model_output)\n",
    "rms_prop = RMSprop(lr=0.0001)\n",
    "print(model.summary())\n",
    "model.compile(loss=\"categorical_crossentropy\", optimizer=rms_prop, metrics=[\"categorical_accuracy\"])\n"
   ]
  },
  {
   "cell_type": "code",
   "execution_count": null,
   "metadata": {
    "collapsed": true
   },
   "outputs": [],
   "source": []
  },
  {
   "cell_type": "code",
   "execution_count": 10,
   "metadata": {},
   "outputs": [
    {
     "data": {
      "text/plain": [
       "{'1001.npz',\n",
       " '1007.npz',\n",
       " '1010.npz',\n",
       " '1016.npz',\n",
       " '1017.npz',\n",
       " '1018.npz',\n",
       " '1022.npz',\n",
       " '1034.npz',\n",
       " '1036.npz',\n",
       " '1038.npz',\n",
       " '1063.npz',\n",
       " '1066.npz',\n",
       " '1076.npz',\n",
       " '108.npz',\n",
       " '1089.npz',\n",
       " '1094.npz',\n",
       " '1105.npz',\n",
       " '112.npz',\n",
       " '1129.npz',\n",
       " '1144.npz',\n",
       " '1172.npz',\n",
       " '1173.npz',\n",
       " '1182.npz',\n",
       " '1191.npz',\n",
       " '1196.npz',\n",
       " '120.npz',\n",
       " '1204.npz',\n",
       " '1208.npz',\n",
       " '122.npz',\n",
       " '1225.npz',\n",
       " '1238.npz',\n",
       " '124.npz',\n",
       " '1240.npz',\n",
       " '13.npz',\n",
       " '137.npz',\n",
       " '143.npz',\n",
       " '147.npz',\n",
       " '149.npz',\n",
       " '150.npz',\n",
       " '181.npz',\n",
       " '188.npz',\n",
       " '190.npz',\n",
       " '195.npz',\n",
       " '204.npz',\n",
       " '211.npz',\n",
       " '218.npz',\n",
       " '22.npz',\n",
       " '23.npz',\n",
       " '240.npz',\n",
       " '280.npz',\n",
       " '281.npz',\n",
       " '303.npz',\n",
       " '316.npz',\n",
       " '324.npz',\n",
       " '333.npz',\n",
       " '335.npz',\n",
       " '357.npz',\n",
       " '362.npz',\n",
       " '394.npz',\n",
       " '40.npz',\n",
       " '404.npz',\n",
       " '428.npz',\n",
       " '430.npz',\n",
       " '450.npz',\n",
       " '457.npz',\n",
       " '493.npz',\n",
       " '497.npz',\n",
       " '503.npz',\n",
       " '509.npz',\n",
       " '520.npz',\n",
       " '54.npz',\n",
       " '543.npz',\n",
       " '548.npz',\n",
       " '556.npz',\n",
       " '563.npz',\n",
       " '580.npz',\n",
       " '584.npz',\n",
       " '622.npz',\n",
       " '644.npz',\n",
       " '656.npz',\n",
       " '66.npz',\n",
       " '660.npz',\n",
       " '672.npz',\n",
       " '680.npz',\n",
       " '681.npz',\n",
       " '684.npz',\n",
       " '690.npz',\n",
       " '703.npz',\n",
       " '706.npz',\n",
       " '717.npz',\n",
       " '732.npz',\n",
       " '767.npz',\n",
       " '777.npz',\n",
       " '781.npz',\n",
       " '782.npz',\n",
       " '784.npz',\n",
       " '786.npz',\n",
       " '799.npz',\n",
       " '813.npz',\n",
       " '828.npz',\n",
       " '830.npz',\n",
       " '840.npz',\n",
       " '843.npz',\n",
       " '856.npz',\n",
       " '858.npz',\n",
       " '860.npz',\n",
       " '873.npz',\n",
       " '884.npz',\n",
       " '889.npz',\n",
       " '903.npz',\n",
       " '912.npz',\n",
       " '926.npz',\n",
       " '953.npz',\n",
       " '98.npz',\n",
       " '988.npz',\n",
       " '99.npz',\n",
       " '998.npz'}"
      ]
     },
     "execution_count": 10,
     "metadata": {},
     "output_type": "execute_result"
    }
   ],
   "source": [
    "list_test"
   ]
  },
  {
   "cell_type": "code",
   "execution_count": null,
   "metadata": {
    "collapsed": true
   },
   "outputs": [],
   "source": [
    "'''\n",
    "model = Sequential()\n",
    "model.add(LSTM(300,input_shape=(100,300,)))\n",
    "model.add(Dense(6, activation='softmax'))\n",
    "model.compile(loss='categorical_crossentropy', optimizer='adam', metrics=['accuracy'])\n",
    "print(model.summary())\n",
    "'''"
   ]
  },
  {
   "cell_type": "code",
   "execution_count": 16,
   "metadata": {},
   "outputs": [
    {
     "name": "stdout",
     "output_type": "stream",
     "text": [
      "Epoch 1/3\n",
      "1132/1132 [==============================] - 676s 597ms/step - loss: 0.3133 - categorical_accuracy: 0.9866 - val_loss: 0.2368 - val_categorical_accuracy: 0.9902\n",
      "Epoch 2/3\n",
      "1132/1132 [==============================] - 657s 581ms/step - loss: 0.3006 - categorical_accuracy: 0.9942 - val_loss: 0.2280 - val_categorical_accuracy: 0.9805\n",
      "Epoch 3/3\n",
      "1132/1132 [==============================] - 653s 577ms/step - loss: 0.2986 - categorical_accuracy: 0.9942 - val_loss: 0.2243 - val_categorical_accuracy: 1.0000\n"
     ]
    },
    {
     "data": {
      "text/plain": [
       "<keras.callbacks.History at 0x7f58ee9f5748>"
      ]
     },
     "execution_count": 16,
     "metadata": {},
     "output_type": "execute_result"
    }
   ],
   "source": [
    "val_set = ['324.npz','218.npz','22.npz','404.npz']\n",
    "\n",
    "model.fit_generator(generator=generator(path1,path2,list_test),steps_per_epoch=1246-len(list_test),validation_data=val_generator(path1,path2,val_set),validation_steps=len(val_set),epochs=3)"
   ]
  },
  {
   "cell_type": "code",
   "execution_count": null,
   "metadata": {
    "collapsed": true
   },
   "outputs": [],
   "source": []
  },
  {
   "cell_type": "code",
   "execution_count": 17,
   "metadata": {},
   "outputs": [
    {
     "data": {
      "text/plain": [
       "[0.27701124012993095, 0.9940378289473685]"
      ]
     },
     "execution_count": 17,
     "metadata": {},
     "output_type": "execute_result"
    }
   ],
   "source": [
    "model.evaluate_generator(generator = predict_generator(path1,path2,list(list_test)),steps=len(list_test))"
   ]
  },
  {
   "cell_type": "code",
   "execution_count": 18,
   "metadata": {
    "collapsed": true
   },
   "outputs": [],
   "source": [
    "model.save('./my_model5.h5')"
   ]
  },
  {
   "cell_type": "code",
   "execution_count": null,
   "metadata": {
    "collapsed": true
   },
   "outputs": [],
   "source": [
    "del model"
   ]
  },
  {
   "cell_type": "code",
   "execution_count": null,
   "metadata": {
    "collapsed": true
   },
   "outputs": [],
   "source": [
    "from keras.models import load_model\n",
    "m = load_model('./my_model.h5')"
   ]
  },
  {
   "cell_type": "code",
   "execution_count": null,
   "metadata": {
    "collapsed": true
   },
   "outputs": [],
   "source": [
    "m.evaluate_generator(generator = predict_generator(path1,path2,list(list_test)),steps=len(list_test))"
   ]
  },
  {
   "cell_type": "code",
   "execution_count": null,
   "metadata": {
    "collapsed": true
   },
   "outputs": [],
   "source": []
  },
  {
   "cell_type": "code",
   "execution_count": null,
   "metadata": {
    "collapsed": true
   },
   "outputs": [],
   "source": []
  },
  {
   "cell_type": "code",
   "execution_count": null,
   "metadata": {
    "collapsed": true
   },
   "outputs": [],
   "source": []
  },
  {
   "cell_type": "code",
   "execution_count": null,
   "metadata": {
    "collapsed": true
   },
   "outputs": [],
   "source": []
  },
  {
   "cell_type": "code",
   "execution_count": null,
   "metadata": {
    "collapsed": true
   },
   "outputs": [],
   "source": []
  },
  {
   "cell_type": "code",
   "execution_count": 11,
   "metadata": {
    "collapsed": true
   },
   "outputs": [],
   "source": [
    "#kaggle model\n",
    "from keras.layers import Dense,Input,LSTM,Bidirectional,Activation,Conv1D,GRU\n",
    "from keras.callbacks import Callback\n",
    "from keras.layers import Dropout,Embedding,GlobalMaxPooling1D, MaxPooling1D, Add, Flatten\n",
    "from keras.preprocessing import text, sequence\n",
    "from keras.layers import GlobalAveragePooling1D, GlobalMaxPooling1D, concatenate, SpatialDropout1D\n",
    "from keras import initializers, regularizers, constraints, optimizers, layers, callbacks\n",
    "from keras.callbacks import EarlyStopping,ModelCheckpoint\n",
    "from keras.models import Model\n",
    "from keras.optimizers import Adam"
   ]
  },
  {
   "cell_type": "code",
   "execution_count": 12,
   "metadata": {
    "collapsed": true
   },
   "outputs": [],
   "source": [
    "sequence_input = Input(shape=(100,300 ))\n",
    "x = SpatialDropout1D(0.2)(sequence_input)\n",
    "x = Bidirectional(GRU(128, return_sequences=True,dropout=0.1,recurrent_dropout=0.1))(x)\n",
    "x = Conv1D(64, kernel_size = 3, padding = \"valid\", kernel_initializer = \"glorot_uniform\")(x)\n",
    "avg_pool = GlobalAveragePooling1D()(x)\n",
    "max_pool = GlobalMaxPooling1D()(x)\n",
    "x = concatenate([avg_pool, max_pool]) \n",
    "# x = Dense(128, activation='relu')(x)\n",
    "# x = Dropout(0.1)(x)\n",
    "preds = Dense(6, activation=\"softmax\")(x)\n",
    "model = Model(sequence_input, preds)\n",
    "model.compile(loss='categorical_crossentropy',optimizer=Adam(lr=1e-3),metrics=['accuracy'])"
   ]
  },
  {
   "cell_type": "code",
   "execution_count": 13,
   "metadata": {},
   "outputs": [
    {
     "name": "stdout",
     "output_type": "stream",
     "text": [
      "__________________________________________________________________________________________________\n",
      "Layer (type)                    Output Shape         Param #     Connected to                     \n",
      "==================================================================================================\n",
      "input_1 (InputLayer)            (None, 100, 300)     0                                            \n",
      "__________________________________________________________________________________________________\n",
      "spatial_dropout1d_1 (SpatialDro (None, 100, 300)     0           input_1[0][0]                    \n",
      "__________________________________________________________________________________________________\n",
      "bidirectional_1 (Bidirectional) (None, 100, 256)     329472      spatial_dropout1d_1[0][0]        \n",
      "__________________________________________________________________________________________________\n",
      "conv1d_1 (Conv1D)               (None, 98, 64)       49216       bidirectional_1[0][0]            \n",
      "__________________________________________________________________________________________________\n",
      "global_average_pooling1d_1 (Glo (None, 64)           0           conv1d_1[0][0]                   \n",
      "__________________________________________________________________________________________________\n",
      "global_max_pooling1d_1 (GlobalM (None, 64)           0           conv1d_1[0][0]                   \n",
      "__________________________________________________________________________________________________\n",
      "concatenate_1 (Concatenate)     (None, 128)          0           global_average_pooling1d_1[0][0] \n",
      "                                                                 global_max_pooling1d_1[0][0]     \n",
      "__________________________________________________________________________________________________\n",
      "dense_1 (Dense)                 (None, 6)            774         concatenate_1[0][0]              \n",
      "==================================================================================================\n",
      "Total params: 379,462\n",
      "Trainable params: 379,462\n",
      "Non-trainable params: 0\n",
      "__________________________________________________________________________________________________\n"
     ]
    }
   ],
   "source": [
    "model.summary()"
   ]
  },
  {
   "cell_type": "code",
   "execution_count": 15,
   "metadata": {},
   "outputs": [
    {
     "name": "stdout",
     "output_type": "stream",
     "text": [
      "Epoch 1/1\n",
      "1129/1129 [==============================] - 1786s 2s/step - loss: 0.2826 - acc: 0.9741 - val_loss: 0.2895 - val_acc: 0.9512\n"
     ]
    },
    {
     "data": {
      "text/plain": [
       "<keras.callbacks.History at 0x7fb1e8098d68>"
      ]
     },
     "execution_count": 15,
     "metadata": {},
     "output_type": "execute_result"
    }
   ],
   "source": [
    "val_set = ['324.npz','218.npz','22.npz','404.npz']\n",
    "\n",
    "model.fit_generator(generator=generator(path1,path2,list_test),steps_per_epoch=1246-len(list_test),validation_data=val_generator(path1,path2,val_set),validation_steps=len(val_set),epochs=1)"
   ]
  },
  {
   "cell_type": "code",
   "execution_count": 17,
   "metadata": {},
   "outputs": [],
   "source": [
    "model.save('./lstm1.h5')"
   ]
  },
  {
   "cell_type": "code",
   "execution_count": 19,
   "metadata": {},
   "outputs": [
    {
     "data": {
      "text/plain": [
       "[0.2854230288639028, 0.9509214743589743]"
      ]
     },
     "execution_count": 19,
     "metadata": {},
     "output_type": "execute_result"
    }
   ],
   "source": [
    "model.evaluate_generator(generator = predict_generator(path1,path2,list(list_test)),steps=len(list_test))"
   ]
  },
  {
   "cell_type": "code",
   "execution_count": 20,
   "metadata": {},
   "outputs": [
    {
     "name": "stdout",
     "output_type": "stream",
     "text": [
      "Epoch 1/1\n",
      "1129/1129 [==============================] - 1381s 1s/step - loss: 0.2741 - acc: 0.9728 - val_loss: 0.2940 - val_acc: 0.9492\n"
     ]
    },
    {
     "data": {
      "text/plain": [
       "<keras.callbacks.History at 0x7fb1e0279400>"
      ]
     },
     "execution_count": 20,
     "metadata": {},
     "output_type": "execute_result"
    }
   ],
   "source": [
    "model.fit_generator(generator=generator(path1,path2,list_test),steps_per_epoch=1246-len(list_test),validation_data=val_generator(path1,path2,val_set),validation_steps=len(val_set),epochs=1)"
   ]
  },
  {
   "cell_type": "code",
   "execution_count": 21,
   "metadata": {},
   "outputs": [
    {
     "name": "stdout",
     "output_type": "stream",
     "text": [
      "Epoch 1/1\n",
      "1129/1129 [==============================] - 1383s 1s/step - loss: 0.2712 - acc: 0.9723 - val_loss: 0.2908 - val_acc: 0.9473\n"
     ]
    },
    {
     "data": {
      "text/plain": [
       "<keras.callbacks.History at 0x7fb1e808a908>"
      ]
     },
     "execution_count": 21,
     "metadata": {},
     "output_type": "execute_result"
    }
   ],
   "source": [
    "model.fit_generator(generator=generator(path1,path2,list_test),steps_per_epoch=1246-len(list_test),validation_data=val_generator(path1,path2,val_set),validation_steps=len(val_set),epochs=1)"
   ]
  },
  {
   "cell_type": "code",
   "execution_count": null,
   "metadata": {
    "collapsed": true
   },
   "outputs": [],
   "source": []
  }
 ],
 "metadata": {
  "kernelspec": {
   "display_name": "Python 3",
   "language": "python",
   "name": "python3"
  },
  "language_info": {
   "codemirror_mode": {
    "name": "ipython",
    "version": 3
   },
   "file_extension": ".py",
   "mimetype": "text/x-python",
   "name": "python",
   "nbconvert_exporter": "python",
   "pygments_lexer": "ipython3",
   "version": "3.6.2"
  }
 },
 "nbformat": 4,
 "nbformat_minor": 2
}
